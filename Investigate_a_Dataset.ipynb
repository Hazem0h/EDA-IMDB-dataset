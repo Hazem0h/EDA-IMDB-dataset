{
 "cells": [
  {
   "cell_type": "markdown",
   "metadata": {},
   "source": [
    "# Project: Investigating The TMDB movies datatest\n",
    "## Table of Contents\n",
    "<ul>\n",
    "<li><a href=\"#intro\">Introduction</a></li>\n",
    "<li><a href=\"#wrangling\">Data Wrangling</a></li>\n",
    "<li><a href=\"#eda\">Exploratory Data Analysis</a></li>\n",
    "<li><a href=\"#conclusions\">Conclusions</a></li>\n",
    "</ul>"
   ]
  },
  {
   "cell_type": "markdown",
   "metadata": {},
   "source": [
    "<a id='intro'></a>\n",
    "## Introduction\n",
    "\n",
    "\n",
    "This dataset has about 10 thousand records of movies, as well as information about:\n",
    "* Movie budget\n",
    "* Movie Revenue\n",
    "* Cast \n",
    "* Director\n",
    "* Production Company\n",
    "* Rating\n",
    "* Popularity\n",
    "* Genre\n",
    "\n",
    "From this extensive dataset, it would be interesting to investigate different factors and their effect on the movie's revenue, rating and popularity. As such, our exploration will try to answer the following questions:\n",
    "* Does high revenue indicate the movie was good (in terms of ratings) ?\n",
    "* What is the relationship between the voting average and revenues?\n",
    "* Does popularity correlate with the voting verage ?\n",
    "* Which genres achieve the highest revenues ?"
   ]
  },
  {
   "cell_type": "code",
   "execution_count": 1,
   "metadata": {},
   "outputs": [],
   "source": [
    "import numpy as np\n",
    "import pandas as pd\n",
    "import matplotlib.pyplot as plt\n",
    "import seaborn as sns\n",
    "\n",
    "%matplotlib inline\n",
    "#plt.rcParams[\"figure.figsize\"] = (7,7)"
   ]
  },
  {
   "cell_type": "code",
   "execution_count": 2,
   "metadata": {
    "scrolled": true
   },
   "outputs": [
    {
     "data": {
      "text/html": [
       "<div>\n",
       "<style scoped>\n",
       "    .dataframe tbody tr th:only-of-type {\n",
       "        vertical-align: middle;\n",
       "    }\n",
       "\n",
       "    .dataframe tbody tr th {\n",
       "        vertical-align: top;\n",
       "    }\n",
       "\n",
       "    .dataframe thead th {\n",
       "        text-align: right;\n",
       "    }\n",
       "</style>\n",
       "<table border=\"1\" class=\"dataframe\">\n",
       "  <thead>\n",
       "    <tr style=\"text-align: right;\">\n",
       "      <th></th>\n",
       "      <th>id</th>\n",
       "      <th>imdb_id</th>\n",
       "      <th>popularity</th>\n",
       "      <th>budget</th>\n",
       "      <th>revenue</th>\n",
       "      <th>original_title</th>\n",
       "      <th>cast</th>\n",
       "      <th>homepage</th>\n",
       "      <th>director</th>\n",
       "      <th>tagline</th>\n",
       "      <th>...</th>\n",
       "      <th>overview</th>\n",
       "      <th>runtime</th>\n",
       "      <th>genres</th>\n",
       "      <th>production_companies</th>\n",
       "      <th>release_date</th>\n",
       "      <th>vote_count</th>\n",
       "      <th>vote_average</th>\n",
       "      <th>release_year</th>\n",
       "      <th>budget_adj</th>\n",
       "      <th>revenue_adj</th>\n",
       "    </tr>\n",
       "  </thead>\n",
       "  <tbody>\n",
       "    <tr>\n",
       "      <th>0</th>\n",
       "      <td>135397</td>\n",
       "      <td>tt0369610</td>\n",
       "      <td>32.985763</td>\n",
       "      <td>150000000</td>\n",
       "      <td>1513528810</td>\n",
       "      <td>Jurassic World</td>\n",
       "      <td>Chris Pratt|Bryce Dallas Howard|Irrfan Khan|Vi...</td>\n",
       "      <td>http://www.jurassicworld.com/</td>\n",
       "      <td>Colin Trevorrow</td>\n",
       "      <td>The park is open.</td>\n",
       "      <td>...</td>\n",
       "      <td>Twenty-two years after the events of Jurassic ...</td>\n",
       "      <td>124</td>\n",
       "      <td>Action|Adventure|Science Fiction|Thriller</td>\n",
       "      <td>Universal Studios|Amblin Entertainment|Legenda...</td>\n",
       "      <td>6/9/15</td>\n",
       "      <td>5562</td>\n",
       "      <td>6.5</td>\n",
       "      <td>2015</td>\n",
       "      <td>1.379999e+08</td>\n",
       "      <td>1.392446e+09</td>\n",
       "    </tr>\n",
       "    <tr>\n",
       "      <th>1</th>\n",
       "      <td>76341</td>\n",
       "      <td>tt1392190</td>\n",
       "      <td>28.419936</td>\n",
       "      <td>150000000</td>\n",
       "      <td>378436354</td>\n",
       "      <td>Mad Max: Fury Road</td>\n",
       "      <td>Tom Hardy|Charlize Theron|Hugh Keays-Byrne|Nic...</td>\n",
       "      <td>http://www.madmaxmovie.com/</td>\n",
       "      <td>George Miller</td>\n",
       "      <td>What a Lovely Day.</td>\n",
       "      <td>...</td>\n",
       "      <td>An apocalyptic story set in the furthest reach...</td>\n",
       "      <td>120</td>\n",
       "      <td>Action|Adventure|Science Fiction|Thriller</td>\n",
       "      <td>Village Roadshow Pictures|Kennedy Miller Produ...</td>\n",
       "      <td>5/13/15</td>\n",
       "      <td>6185</td>\n",
       "      <td>7.1</td>\n",
       "      <td>2015</td>\n",
       "      <td>1.379999e+08</td>\n",
       "      <td>3.481613e+08</td>\n",
       "    </tr>\n",
       "    <tr>\n",
       "      <th>2</th>\n",
       "      <td>262500</td>\n",
       "      <td>tt2908446</td>\n",
       "      <td>13.112507</td>\n",
       "      <td>110000000</td>\n",
       "      <td>295238201</td>\n",
       "      <td>Insurgent</td>\n",
       "      <td>Shailene Woodley|Theo James|Kate Winslet|Ansel...</td>\n",
       "      <td>http://www.thedivergentseries.movie/#insurgent</td>\n",
       "      <td>Robert Schwentke</td>\n",
       "      <td>One Choice Can Destroy You</td>\n",
       "      <td>...</td>\n",
       "      <td>Beatrice Prior must confront her inner demons ...</td>\n",
       "      <td>119</td>\n",
       "      <td>Adventure|Science Fiction|Thriller</td>\n",
       "      <td>Summit Entertainment|Mandeville Films|Red Wago...</td>\n",
       "      <td>3/18/15</td>\n",
       "      <td>2480</td>\n",
       "      <td>6.3</td>\n",
       "      <td>2015</td>\n",
       "      <td>1.012000e+08</td>\n",
       "      <td>2.716190e+08</td>\n",
       "    </tr>\n",
       "    <tr>\n",
       "      <th>3</th>\n",
       "      <td>140607</td>\n",
       "      <td>tt2488496</td>\n",
       "      <td>11.173104</td>\n",
       "      <td>200000000</td>\n",
       "      <td>2068178225</td>\n",
       "      <td>Star Wars: The Force Awakens</td>\n",
       "      <td>Harrison Ford|Mark Hamill|Carrie Fisher|Adam D...</td>\n",
       "      <td>http://www.starwars.com/films/star-wars-episod...</td>\n",
       "      <td>J.J. Abrams</td>\n",
       "      <td>Every generation has a story.</td>\n",
       "      <td>...</td>\n",
       "      <td>Thirty years after defeating the Galactic Empi...</td>\n",
       "      <td>136</td>\n",
       "      <td>Action|Adventure|Science Fiction|Fantasy</td>\n",
       "      <td>Lucasfilm|Truenorth Productions|Bad Robot</td>\n",
       "      <td>12/15/15</td>\n",
       "      <td>5292</td>\n",
       "      <td>7.5</td>\n",
       "      <td>2015</td>\n",
       "      <td>1.839999e+08</td>\n",
       "      <td>1.902723e+09</td>\n",
       "    </tr>\n",
       "    <tr>\n",
       "      <th>4</th>\n",
       "      <td>168259</td>\n",
       "      <td>tt2820852</td>\n",
       "      <td>9.335014</td>\n",
       "      <td>190000000</td>\n",
       "      <td>1506249360</td>\n",
       "      <td>Furious 7</td>\n",
       "      <td>Vin Diesel|Paul Walker|Jason Statham|Michelle ...</td>\n",
       "      <td>http://www.furious7.com/</td>\n",
       "      <td>James Wan</td>\n",
       "      <td>Vengeance Hits Home</td>\n",
       "      <td>...</td>\n",
       "      <td>Deckard Shaw seeks revenge against Dominic Tor...</td>\n",
       "      <td>137</td>\n",
       "      <td>Action|Crime|Thriller</td>\n",
       "      <td>Universal Pictures|Original Film|Media Rights ...</td>\n",
       "      <td>4/1/15</td>\n",
       "      <td>2947</td>\n",
       "      <td>7.3</td>\n",
       "      <td>2015</td>\n",
       "      <td>1.747999e+08</td>\n",
       "      <td>1.385749e+09</td>\n",
       "    </tr>\n",
       "  </tbody>\n",
       "</table>\n",
       "<p>5 rows × 21 columns</p>\n",
       "</div>"
      ],
      "text/plain": [
       "       id    imdb_id  popularity     budget     revenue  \\\n",
       "0  135397  tt0369610   32.985763  150000000  1513528810   \n",
       "1   76341  tt1392190   28.419936  150000000   378436354   \n",
       "2  262500  tt2908446   13.112507  110000000   295238201   \n",
       "3  140607  tt2488496   11.173104  200000000  2068178225   \n",
       "4  168259  tt2820852    9.335014  190000000  1506249360   \n",
       "\n",
       "                 original_title  \\\n",
       "0                Jurassic World   \n",
       "1            Mad Max: Fury Road   \n",
       "2                     Insurgent   \n",
       "3  Star Wars: The Force Awakens   \n",
       "4                     Furious 7   \n",
       "\n",
       "                                                cast  \\\n",
       "0  Chris Pratt|Bryce Dallas Howard|Irrfan Khan|Vi...   \n",
       "1  Tom Hardy|Charlize Theron|Hugh Keays-Byrne|Nic...   \n",
       "2  Shailene Woodley|Theo James|Kate Winslet|Ansel...   \n",
       "3  Harrison Ford|Mark Hamill|Carrie Fisher|Adam D...   \n",
       "4  Vin Diesel|Paul Walker|Jason Statham|Michelle ...   \n",
       "\n",
       "                                            homepage          director  \\\n",
       "0                      http://www.jurassicworld.com/   Colin Trevorrow   \n",
       "1                        http://www.madmaxmovie.com/     George Miller   \n",
       "2     http://www.thedivergentseries.movie/#insurgent  Robert Schwentke   \n",
       "3  http://www.starwars.com/films/star-wars-episod...       J.J. Abrams   \n",
       "4                           http://www.furious7.com/         James Wan   \n",
       "\n",
       "                         tagline  ...  \\\n",
       "0              The park is open.  ...   \n",
       "1             What a Lovely Day.  ...   \n",
       "2     One Choice Can Destroy You  ...   \n",
       "3  Every generation has a story.  ...   \n",
       "4            Vengeance Hits Home  ...   \n",
       "\n",
       "                                            overview runtime  \\\n",
       "0  Twenty-two years after the events of Jurassic ...     124   \n",
       "1  An apocalyptic story set in the furthest reach...     120   \n",
       "2  Beatrice Prior must confront her inner demons ...     119   \n",
       "3  Thirty years after defeating the Galactic Empi...     136   \n",
       "4  Deckard Shaw seeks revenge against Dominic Tor...     137   \n",
       "\n",
       "                                      genres  \\\n",
       "0  Action|Adventure|Science Fiction|Thriller   \n",
       "1  Action|Adventure|Science Fiction|Thriller   \n",
       "2         Adventure|Science Fiction|Thriller   \n",
       "3   Action|Adventure|Science Fiction|Fantasy   \n",
       "4                      Action|Crime|Thriller   \n",
       "\n",
       "                                production_companies release_date vote_count  \\\n",
       "0  Universal Studios|Amblin Entertainment|Legenda...       6/9/15       5562   \n",
       "1  Village Roadshow Pictures|Kennedy Miller Produ...      5/13/15       6185   \n",
       "2  Summit Entertainment|Mandeville Films|Red Wago...      3/18/15       2480   \n",
       "3          Lucasfilm|Truenorth Productions|Bad Robot     12/15/15       5292   \n",
       "4  Universal Pictures|Original Film|Media Rights ...       4/1/15       2947   \n",
       "\n",
       "   vote_average  release_year    budget_adj   revenue_adj  \n",
       "0           6.5          2015  1.379999e+08  1.392446e+09  \n",
       "1           7.1          2015  1.379999e+08  3.481613e+08  \n",
       "2           6.3          2015  1.012000e+08  2.716190e+08  \n",
       "3           7.5          2015  1.839999e+08  1.902723e+09  \n",
       "4           7.3          2015  1.747999e+08  1.385749e+09  \n",
       "\n",
       "[5 rows x 21 columns]"
      ]
     },
     "execution_count": 2,
     "metadata": {},
     "output_type": "execute_result"
    }
   ],
   "source": [
    "df = pd.read_csv(\"https://d17h27t6h515a5.cloudfront.net/topher/2017/October/59dd1c4c_tmdb-movies/tmdb-movies.csv\")\n",
    "df.head()"
   ]
  },
  {
   "cell_type": "markdown",
   "metadata": {},
   "source": [
    "<a id='wrangling'></a>\n",
    "## Data Wrangling\n",
    "\n",
    "In this step, we will assess data cleanliness and perform the necessary cleaning.<br>\n",
    "In terms of column names, they are meaningful, and none of them have white space, which is great. <br>\n",
    "However, not all of them are necessary to our analysis, so we will drop such columns.\n",
    "### First, I will drop the columns that are not necessary to our analysis\n",
    "These are:\n",
    "* `id`\n",
    "* `imdb_id`\n",
    "* `homepage`\n",
    "* `cast`\n",
    "* `tagline`\n",
    "* `overview`\n",
    "* `keywords`\n",
    "* `release_date`\n",
    "* `production_companies`\n",
    "* `budget_adj` \n",
    "* `revenue_adj`\n",
    "* `runtime`"
   ]
  },
  {
   "cell_type": "code",
   "execution_count": 3,
   "metadata": {
    "scrolled": true
   },
   "outputs": [
    {
     "data": {
      "text/html": [
       "<div>\n",
       "<style scoped>\n",
       "    .dataframe tbody tr th:only-of-type {\n",
       "        vertical-align: middle;\n",
       "    }\n",
       "\n",
       "    .dataframe tbody tr th {\n",
       "        vertical-align: top;\n",
       "    }\n",
       "\n",
       "    .dataframe thead th {\n",
       "        text-align: right;\n",
       "    }\n",
       "</style>\n",
       "<table border=\"1\" class=\"dataframe\">\n",
       "  <thead>\n",
       "    <tr style=\"text-align: right;\">\n",
       "      <th></th>\n",
       "      <th>popularity</th>\n",
       "      <th>budget</th>\n",
       "      <th>revenue</th>\n",
       "      <th>original_title</th>\n",
       "      <th>director</th>\n",
       "      <th>genres</th>\n",
       "      <th>vote_count</th>\n",
       "      <th>vote_average</th>\n",
       "      <th>release_year</th>\n",
       "    </tr>\n",
       "  </thead>\n",
       "  <tbody>\n",
       "    <tr>\n",
       "      <th>0</th>\n",
       "      <td>32.985763</td>\n",
       "      <td>150000000</td>\n",
       "      <td>1513528810</td>\n",
       "      <td>Jurassic World</td>\n",
       "      <td>Colin Trevorrow</td>\n",
       "      <td>Action|Adventure|Science Fiction|Thriller</td>\n",
       "      <td>5562</td>\n",
       "      <td>6.5</td>\n",
       "      <td>2015</td>\n",
       "    </tr>\n",
       "    <tr>\n",
       "      <th>1</th>\n",
       "      <td>28.419936</td>\n",
       "      <td>150000000</td>\n",
       "      <td>378436354</td>\n",
       "      <td>Mad Max: Fury Road</td>\n",
       "      <td>George Miller</td>\n",
       "      <td>Action|Adventure|Science Fiction|Thriller</td>\n",
       "      <td>6185</td>\n",
       "      <td>7.1</td>\n",
       "      <td>2015</td>\n",
       "    </tr>\n",
       "    <tr>\n",
       "      <th>2</th>\n",
       "      <td>13.112507</td>\n",
       "      <td>110000000</td>\n",
       "      <td>295238201</td>\n",
       "      <td>Insurgent</td>\n",
       "      <td>Robert Schwentke</td>\n",
       "      <td>Adventure|Science Fiction|Thriller</td>\n",
       "      <td>2480</td>\n",
       "      <td>6.3</td>\n",
       "      <td>2015</td>\n",
       "    </tr>\n",
       "    <tr>\n",
       "      <th>3</th>\n",
       "      <td>11.173104</td>\n",
       "      <td>200000000</td>\n",
       "      <td>2068178225</td>\n",
       "      <td>Star Wars: The Force Awakens</td>\n",
       "      <td>J.J. Abrams</td>\n",
       "      <td>Action|Adventure|Science Fiction|Fantasy</td>\n",
       "      <td>5292</td>\n",
       "      <td>7.5</td>\n",
       "      <td>2015</td>\n",
       "    </tr>\n",
       "    <tr>\n",
       "      <th>4</th>\n",
       "      <td>9.335014</td>\n",
       "      <td>190000000</td>\n",
       "      <td>1506249360</td>\n",
       "      <td>Furious 7</td>\n",
       "      <td>James Wan</td>\n",
       "      <td>Action|Crime|Thriller</td>\n",
       "      <td>2947</td>\n",
       "      <td>7.3</td>\n",
       "      <td>2015</td>\n",
       "    </tr>\n",
       "  </tbody>\n",
       "</table>\n",
       "</div>"
      ],
      "text/plain": [
       "   popularity     budget     revenue                original_title  \\\n",
       "0   32.985763  150000000  1513528810                Jurassic World   \n",
       "1   28.419936  150000000   378436354            Mad Max: Fury Road   \n",
       "2   13.112507  110000000   295238201                     Insurgent   \n",
       "3   11.173104  200000000  2068178225  Star Wars: The Force Awakens   \n",
       "4    9.335014  190000000  1506249360                     Furious 7   \n",
       "\n",
       "           director                                     genres  vote_count  \\\n",
       "0   Colin Trevorrow  Action|Adventure|Science Fiction|Thriller        5562   \n",
       "1     George Miller  Action|Adventure|Science Fiction|Thriller        6185   \n",
       "2  Robert Schwentke         Adventure|Science Fiction|Thriller        2480   \n",
       "3       J.J. Abrams   Action|Adventure|Science Fiction|Fantasy        5292   \n",
       "4         James Wan                      Action|Crime|Thriller        2947   \n",
       "\n",
       "   vote_average  release_year  \n",
       "0           6.5          2015  \n",
       "1           7.1          2015  \n",
       "2           6.3          2015  \n",
       "3           7.5          2015  \n",
       "4           7.3          2015  "
      ]
     },
     "execution_count": 3,
     "metadata": {},
     "output_type": "execute_result"
    }
   ],
   "source": [
    "# I will make in place = False such that the original dataframe is intact. Any further modifications will be done\n",
    "# on the copy\n",
    "columns =  [\"id\", \"imdb_id\", \"homepage\",\"cast\", \n",
    "            \"tagline\", \"overview\", \"keywords\", \n",
    "            \"release_date\",\"production_companies\",\n",
    "            \"budget_adj\", \"revenue_adj\", \"runtime\"]\n",
    "df_mod = df.drop(columns = columns)\n",
    "df_mod.head()"
   ]
  },
  {
   "cell_type": "markdown",
   "metadata": {},
   "source": [
    "### Second: let's remove any duplicate rows"
   ]
  },
  {
   "cell_type": "code",
   "execution_count": 4,
   "metadata": {},
   "outputs": [
    {
     "data": {
      "text/plain": [
       "True"
      ]
     },
     "execution_count": 4,
     "metadata": {},
     "output_type": "execute_result"
    }
   ],
   "source": [
    "# let's check if there are any\n",
    "df_mod.duplicated().any()"
   ]
  },
  {
   "cell_type": "code",
   "execution_count": 5,
   "metadata": {
    "scrolled": true
   },
   "outputs": [
    {
     "data": {
      "text/plain": [
       "False"
      ]
     },
     "execution_count": 5,
     "metadata": {},
     "output_type": "execute_result"
    }
   ],
   "source": [
    "# let's remove the duplicate rows\n",
    "df_mod.drop_duplicates(inplace=True)\n",
    "df_mod.duplicated().any()"
   ]
  },
  {
   "cell_type": "markdown",
   "metadata": {},
   "source": [
    "#### Now, we will call the `info` method to see if there are null values, and check if the datatypes are correct"
   ]
  },
  {
   "cell_type": "code",
   "execution_count": 6,
   "metadata": {
    "scrolled": false
   },
   "outputs": [
    {
     "name": "stdout",
     "output_type": "stream",
     "text": [
      "<class 'pandas.core.frame.DataFrame'>\n",
      "Int64Index: 10865 entries, 0 to 10865\n",
      "Data columns (total 9 columns):\n",
      " #   Column          Non-Null Count  Dtype  \n",
      "---  ------          --------------  -----  \n",
      " 0   popularity      10865 non-null  float64\n",
      " 1   budget          10865 non-null  int64  \n",
      " 2   revenue         10865 non-null  int64  \n",
      " 3   original_title  10865 non-null  object \n",
      " 4   director        10821 non-null  object \n",
      " 5   genres          10842 non-null  object \n",
      " 6   vote_count      10865 non-null  int64  \n",
      " 7   vote_average    10865 non-null  float64\n",
      " 8   release_year    10865 non-null  int64  \n",
      "dtypes: float64(2), int64(4), object(3)\n",
      "memory usage: 848.8+ KB\n"
     ]
    }
   ],
   "source": [
    "df_mod.info()"
   ]
  },
  {
   "cell_type": "markdown",
   "metadata": {},
   "source": [
    "From this, we can see that there are null values in the columns (`director, genres`). Since they are only a few null values, we can discard them\n"
   ]
  },
  {
   "cell_type": "markdown",
   "metadata": {},
   "source": [
    "### Third: Drop the null records (since they are a few)"
   ]
  },
  {
   "cell_type": "code",
   "execution_count": 7,
   "metadata": {
    "scrolled": true
   },
   "outputs": [
    {
     "name": "stdout",
     "output_type": "stream",
     "text": [
      "<class 'pandas.core.frame.DataFrame'>\n",
      "Int64Index: 10800 entries, 0 to 10865\n",
      "Data columns (total 9 columns):\n",
      " #   Column          Non-Null Count  Dtype  \n",
      "---  ------          --------------  -----  \n",
      " 0   popularity      10800 non-null  float64\n",
      " 1   budget          10800 non-null  int64  \n",
      " 2   revenue         10800 non-null  int64  \n",
      " 3   original_title  10800 non-null  object \n",
      " 4   director        10800 non-null  object \n",
      " 5   genres          10800 non-null  object \n",
      " 6   vote_count      10800 non-null  int64  \n",
      " 7   vote_average    10800 non-null  float64\n",
      " 8   release_year    10800 non-null  int64  \n",
      "dtypes: float64(2), int64(4), object(3)\n",
      "memory usage: 843.8+ KB\n"
     ]
    }
   ],
   "source": [
    "df_mod.dropna(inplace=True)\n",
    "df_mod.info()"
   ]
  },
  {
   "cell_type": "markdown",
   "metadata": {},
   "source": [
    "### Fourth: The Genre attribute is multivalued\n",
    "The genre attribute is multivalued, since a movie can have multiple genres. This makes it difficult to aggegate about them. So, this needs to be fixed. \n",
    "\n",
    "We can try to one-hot encode the genres"
   ]
  },
  {
   "cell_type": "code",
   "execution_count": 8,
   "metadata": {},
   "outputs": [
    {
     "data": {
      "text/html": [
       "<div>\n",
       "<style scoped>\n",
       "    .dataframe tbody tr th:only-of-type {\n",
       "        vertical-align: middle;\n",
       "    }\n",
       "\n",
       "    .dataframe tbody tr th {\n",
       "        vertical-align: top;\n",
       "    }\n",
       "\n",
       "    .dataframe thead th {\n",
       "        text-align: right;\n",
       "    }\n",
       "</style>\n",
       "<table border=\"1\" class=\"dataframe\">\n",
       "  <thead>\n",
       "    <tr style=\"text-align: right;\">\n",
       "      <th></th>\n",
       "      <th>Action</th>\n",
       "      <th>Adventure</th>\n",
       "      <th>Animation</th>\n",
       "      <th>Comedy</th>\n",
       "      <th>Crime</th>\n",
       "      <th>Documentary</th>\n",
       "      <th>Drama</th>\n",
       "      <th>Family</th>\n",
       "      <th>Fantasy</th>\n",
       "      <th>Foreign</th>\n",
       "      <th>History</th>\n",
       "      <th>Horror</th>\n",
       "      <th>Music</th>\n",
       "      <th>Mystery</th>\n",
       "      <th>Romance</th>\n",
       "      <th>Science Fiction</th>\n",
       "      <th>TV Movie</th>\n",
       "      <th>Thriller</th>\n",
       "      <th>War</th>\n",
       "      <th>Western</th>\n",
       "    </tr>\n",
       "  </thead>\n",
       "  <tbody>\n",
       "    <tr>\n",
       "      <th>0</th>\n",
       "      <td>1</td>\n",
       "      <td>1</td>\n",
       "      <td>0</td>\n",
       "      <td>0</td>\n",
       "      <td>0</td>\n",
       "      <td>0</td>\n",
       "      <td>0</td>\n",
       "      <td>0</td>\n",
       "      <td>0</td>\n",
       "      <td>0</td>\n",
       "      <td>0</td>\n",
       "      <td>0</td>\n",
       "      <td>0</td>\n",
       "      <td>0</td>\n",
       "      <td>0</td>\n",
       "      <td>1</td>\n",
       "      <td>0</td>\n",
       "      <td>1</td>\n",
       "      <td>0</td>\n",
       "      <td>0</td>\n",
       "    </tr>\n",
       "    <tr>\n",
       "      <th>1</th>\n",
       "      <td>1</td>\n",
       "      <td>1</td>\n",
       "      <td>0</td>\n",
       "      <td>0</td>\n",
       "      <td>0</td>\n",
       "      <td>0</td>\n",
       "      <td>0</td>\n",
       "      <td>0</td>\n",
       "      <td>0</td>\n",
       "      <td>0</td>\n",
       "      <td>0</td>\n",
       "      <td>0</td>\n",
       "      <td>0</td>\n",
       "      <td>0</td>\n",
       "      <td>0</td>\n",
       "      <td>1</td>\n",
       "      <td>0</td>\n",
       "      <td>1</td>\n",
       "      <td>0</td>\n",
       "      <td>0</td>\n",
       "    </tr>\n",
       "    <tr>\n",
       "      <th>2</th>\n",
       "      <td>0</td>\n",
       "      <td>1</td>\n",
       "      <td>0</td>\n",
       "      <td>0</td>\n",
       "      <td>0</td>\n",
       "      <td>0</td>\n",
       "      <td>0</td>\n",
       "      <td>0</td>\n",
       "      <td>0</td>\n",
       "      <td>0</td>\n",
       "      <td>0</td>\n",
       "      <td>0</td>\n",
       "      <td>0</td>\n",
       "      <td>0</td>\n",
       "      <td>0</td>\n",
       "      <td>1</td>\n",
       "      <td>0</td>\n",
       "      <td>1</td>\n",
       "      <td>0</td>\n",
       "      <td>0</td>\n",
       "    </tr>\n",
       "    <tr>\n",
       "      <th>3</th>\n",
       "      <td>1</td>\n",
       "      <td>1</td>\n",
       "      <td>0</td>\n",
       "      <td>0</td>\n",
       "      <td>0</td>\n",
       "      <td>0</td>\n",
       "      <td>0</td>\n",
       "      <td>0</td>\n",
       "      <td>1</td>\n",
       "      <td>0</td>\n",
       "      <td>0</td>\n",
       "      <td>0</td>\n",
       "      <td>0</td>\n",
       "      <td>0</td>\n",
       "      <td>0</td>\n",
       "      <td>1</td>\n",
       "      <td>0</td>\n",
       "      <td>0</td>\n",
       "      <td>0</td>\n",
       "      <td>0</td>\n",
       "    </tr>\n",
       "    <tr>\n",
       "      <th>4</th>\n",
       "      <td>1</td>\n",
       "      <td>0</td>\n",
       "      <td>0</td>\n",
       "      <td>0</td>\n",
       "      <td>1</td>\n",
       "      <td>0</td>\n",
       "      <td>0</td>\n",
       "      <td>0</td>\n",
       "      <td>0</td>\n",
       "      <td>0</td>\n",
       "      <td>0</td>\n",
       "      <td>0</td>\n",
       "      <td>0</td>\n",
       "      <td>0</td>\n",
       "      <td>0</td>\n",
       "      <td>0</td>\n",
       "      <td>0</td>\n",
       "      <td>1</td>\n",
       "      <td>0</td>\n",
       "      <td>0</td>\n",
       "    </tr>\n",
       "  </tbody>\n",
       "</table>\n",
       "</div>"
      ],
      "text/plain": [
       "   Action  Adventure  Animation  Comedy  Crime  Documentary  Drama  Family  \\\n",
       "0       1          1          0       0      0            0      0       0   \n",
       "1       1          1          0       0      0            0      0       0   \n",
       "2       0          1          0       0      0            0      0       0   \n",
       "3       1          1          0       0      0            0      0       0   \n",
       "4       1          0          0       0      1            0      0       0   \n",
       "\n",
       "   Fantasy  Foreign  History  Horror  Music  Mystery  Romance  \\\n",
       "0        0        0        0       0      0        0        0   \n",
       "1        0        0        0       0      0        0        0   \n",
       "2        0        0        0       0      0        0        0   \n",
       "3        1        0        0       0      0        0        0   \n",
       "4        0        0        0       0      0        0        0   \n",
       "\n",
       "   Science Fiction  TV Movie  Thriller  War  Western  \n",
       "0                1         0         1    0        0  \n",
       "1                1         0         1    0        0  \n",
       "2                1         0         1    0        0  \n",
       "3                1         0         0    0        0  \n",
       "4                0         0         1    0        0  "
      ]
     },
     "execution_count": 8,
     "metadata": {},
     "output_type": "execute_result"
    }
   ],
   "source": [
    "# get the table representing the encoded genres\n",
    "genres = df_mod.genres.str.get_dummies(sep=\"|\")\n",
    "genres.head()"
   ]
  },
  {
   "cell_type": "markdown",
   "metadata": {},
   "source": [
    "Now that there are many genres, I believe it's better to leave this table as it is, such that our `df_mod` dataframe doesn't get bulky. Also, not to perform unnecessary calculations when aggregating over `df_mod`. When necessary, we can join both dataframes\n",
    "\n",
    "Now, we can drop the `genres` column"
   ]
  },
  {
   "cell_type": "code",
   "execution_count": 9,
   "metadata": {},
   "outputs": [],
   "source": [
    "df_mod.drop(columns=[\"genres\"], inplace = True)"
   ]
  },
  {
   "cell_type": "code",
   "execution_count": 10,
   "metadata": {},
   "outputs": [
    {
     "data": {
      "text/plain": [
       "Index(['popularity', 'budget', 'revenue', 'original_title', 'director',\n",
       "       'vote_count', 'vote_average', 'release_year'],\n",
       "      dtype='object')"
      ]
     },
     "execution_count": 10,
     "metadata": {},
     "output_type": "execute_result"
    }
   ],
   "source": [
    "df_mod.columns"
   ]
  },
  {
   "cell_type": "markdown",
   "metadata": {},
   "source": [
    "I will also rename the column names in the newly created `genres` dataframe, such that there are no whitespaces, and all are lower case"
   ]
  },
  {
   "cell_type": "code",
   "execution_count": 11,
   "metadata": {
    "scrolled": true
   },
   "outputs": [
    {
     "data": {
      "text/plain": [
       "Index(['action', 'adventure', 'animation', 'comedy', 'crime', 'documentary',\n",
       "       'drama', 'family', 'fantasy', 'foreign', 'history', 'horror', 'music',\n",
       "       'mystery', 'romance', 'science_fiction', 'tv_movie', 'thriller', 'war',\n",
       "       'western'],\n",
       "      dtype='object')"
      ]
     },
     "execution_count": 11,
     "metadata": {},
     "output_type": "execute_result"
    }
   ],
   "source": [
    "genres.rename(columns =lambda x: x.lower().strip().replace(\" \",\"_\"),inplace=True)\n",
    "genres.columns"
   ]
  },
  {
   "cell_type": "markdown",
   "metadata": {},
   "source": [
    "#### That's pretty much it. Now we have the relevant data in a clean format, and we can proceed to data exploration and extracting insights"
   ]
  },
  {
   "cell_type": "markdown",
   "metadata": {},
   "source": [
    "<a id='eda'></a>\n",
    "## Exploratory Data Analysis\n",
    "\n",
    "In this step, we will explore the data, viewing the summary statistics and creating visualization to try to answer our questions.\n"
   ]
  },
  {
   "cell_type": "markdown",
   "metadata": {},
   "source": [
    "###  Summary statistics and Univariate Analysis"
   ]
  },
  {
   "cell_type": "code",
   "execution_count": 12,
   "metadata": {
    "scrolled": false
   },
   "outputs": [
    {
     "data": {
      "text/html": [
       "<div>\n",
       "<style scoped>\n",
       "    .dataframe tbody tr th:only-of-type {\n",
       "        vertical-align: middle;\n",
       "    }\n",
       "\n",
       "    .dataframe tbody tr th {\n",
       "        vertical-align: top;\n",
       "    }\n",
       "\n",
       "    .dataframe thead th {\n",
       "        text-align: right;\n",
       "    }\n",
       "</style>\n",
       "<table border=\"1\" class=\"dataframe\">\n",
       "  <thead>\n",
       "    <tr style=\"text-align: right;\">\n",
       "      <th></th>\n",
       "      <th>popularity</th>\n",
       "      <th>budget</th>\n",
       "      <th>revenue</th>\n",
       "      <th>vote_count</th>\n",
       "      <th>vote_average</th>\n",
       "    </tr>\n",
       "  </thead>\n",
       "  <tbody>\n",
       "    <tr>\n",
       "      <th>count</th>\n",
       "      <td>10800.000000</td>\n",
       "      <td>1.080000e+04</td>\n",
       "      <td>1.080000e+04</td>\n",
       "      <td>10800.000000</td>\n",
       "      <td>10800.000000</td>\n",
       "    </tr>\n",
       "    <tr>\n",
       "      <th>mean</th>\n",
       "      <td>0.649455</td>\n",
       "      <td>1.471114e+07</td>\n",
       "      <td>4.006558e+07</td>\n",
       "      <td>218.600741</td>\n",
       "      <td>5.970880</td>\n",
       "    </tr>\n",
       "    <tr>\n",
       "      <th>std</th>\n",
       "      <td>1.002441</td>\n",
       "      <td>3.098677e+07</td>\n",
       "      <td>1.173193e+08</td>\n",
       "      <td>577.165055</td>\n",
       "      <td>0.933006</td>\n",
       "    </tr>\n",
       "    <tr>\n",
       "      <th>min</th>\n",
       "      <td>0.000188</td>\n",
       "      <td>0.000000e+00</td>\n",
       "      <td>0.000000e+00</td>\n",
       "      <td>10.000000</td>\n",
       "      <td>1.500000</td>\n",
       "    </tr>\n",
       "    <tr>\n",
       "      <th>25%</th>\n",
       "      <td>0.209157</td>\n",
       "      <td>0.000000e+00</td>\n",
       "      <td>0.000000e+00</td>\n",
       "      <td>17.000000</td>\n",
       "      <td>5.400000</td>\n",
       "    </tr>\n",
       "    <tr>\n",
       "      <th>50%</th>\n",
       "      <td>0.385471</td>\n",
       "      <td>0.000000e+00</td>\n",
       "      <td>0.000000e+00</td>\n",
       "      <td>39.000000</td>\n",
       "      <td>6.000000</td>\n",
       "    </tr>\n",
       "    <tr>\n",
       "      <th>75%</th>\n",
       "      <td>0.717508</td>\n",
       "      <td>1.564374e+07</td>\n",
       "      <td>2.455409e+07</td>\n",
       "      <td>147.000000</td>\n",
       "      <td>6.600000</td>\n",
       "    </tr>\n",
       "    <tr>\n",
       "      <th>max</th>\n",
       "      <td>32.985763</td>\n",
       "      <td>4.250000e+08</td>\n",
       "      <td>2.781506e+09</td>\n",
       "      <td>9767.000000</td>\n",
       "      <td>9.200000</td>\n",
       "    </tr>\n",
       "  </tbody>\n",
       "</table>\n",
       "</div>"
      ],
      "text/plain": [
       "         popularity        budget       revenue    vote_count  vote_average\n",
       "count  10800.000000  1.080000e+04  1.080000e+04  10800.000000  10800.000000\n",
       "mean       0.649455  1.471114e+07  4.006558e+07    218.600741      5.970880\n",
       "std        1.002441  3.098677e+07  1.173193e+08    577.165055      0.933006\n",
       "min        0.000188  0.000000e+00  0.000000e+00     10.000000      1.500000\n",
       "25%        0.209157  0.000000e+00  0.000000e+00     17.000000      5.400000\n",
       "50%        0.385471  0.000000e+00  0.000000e+00     39.000000      6.000000\n",
       "75%        0.717508  1.564374e+07  2.455409e+07    147.000000      6.600000\n",
       "max       32.985763  4.250000e+08  2.781506e+09   9767.000000      9.200000"
      ]
     },
     "execution_count": 12,
     "metadata": {},
     "output_type": "execute_result"
    }
   ],
   "source": [
    "df_mod.drop(columns = [\"release_year\"]).describe()"
   ]
  },
  {
   "cell_type": "markdown",
   "metadata": {},
   "source": [
    "We can also plot a histogram of the columns to visualize the distribution of each column"
   ]
  },
  {
   "cell_type": "code",
   "execution_count": 13,
   "metadata": {
    "scrolled": false
   },
   "outputs": [
    {
     "data": {
      "image/png": "[encoded data removed]",
      "text/plain": [
       "<Figure size 720x720 with 6 Axes>"
      ]
     },
     "metadata": {
      "needs_background": "light"
     },
     "output_type": "display_data"
    }
   ],
   "source": [
    "df_mod.hist(figsize = (10,10), bins = 100);"
   ]
  },
  {
   "cell_type": "markdown",
   "metadata": {},
   "source": [
    "### From the histograms and the summary statistics, we can provide univariate analysis for the columns:\n",
    "\n",
    "#### Voting average\n",
    "It follows nearly follows normal distribution, centered at about 6. That means that in terms of rating, movies are on average OK"
   ]
  },
  {
   "cell_type": "code",
   "execution_count": 14,
   "metadata": {
    "scrolled": true
   },
   "outputs": [
    {
     "data": {
      "image/png": "[encoded data removed]",
      "text/plain": [
       "<Figure size 432x288 with 1 Axes>"
      ]
     },
     "metadata": {
      "needs_background": "light"
     },
     "output_type": "display_data"
    }
   ],
   "source": [
    "df_mod.vote_average.hist(bins = 100);\n",
    "plt.xlabel(\"Voting Average\");"
   ]
  },
  {
   "cell_type": "markdown",
   "metadata": {},
   "source": [
    "#### Vote Count\n",
    "It seems the vote count follows an exponential distribution, with the majority of counts being low, while the extremes have high vote counts. This is problematic when considering the voting average, since a low number of vote counts is not representative of the true rating."
   ]
  },
  {
   "cell_type": "code",
   "execution_count": 15,
   "metadata": {
    "scrolled": false
   },
   "outputs": [
    {
     "data": {
      "image/png": "[encoded data removed]",
      "text/plain": [
       "<Figure size 432x288 with 2 Axes>"
      ]
     },
     "metadata": {
      "needs_background": "light"
     },
     "output_type": "display_data"
    }
   ],
   "source": [
    "# I will plot the distribution over 2 plots so that the plots look nicer\n",
    "# First, limit to the 90th percentile\n",
    "fig = plt.subplot(1,2,1);\n",
    "perc_90 = df_mod.vote_count.quantile(q = 0.9)\n",
    "plt.hist(df_mod.vote_count, bins = 100, range = (0, perc_90));\n",
    "\n",
    "plt.grid();  # grid\n",
    "plt.xlabel(\"Vote count\"); #label\n",
    "plt.title(\"Vote count up to the 90th percentile\");\n",
    "\n",
    "# Second, plot the remaining data\n",
    "plt.subplot(1,2,2);\n",
    "plt.hist(df_mod.vote_count, bins = 100, range=(perc_90, df_mod.vote_count.max()));\n",
    "\n",
    "plt.xlabel(\"Vote Count\");\n",
    "plt.title(\"Vote Count from the 90th percentile to the maximum\");\n",
    "plt.grid();\n",
    "\n",
    "plt.subplots_adjust(right = 2);"
   ]
  },
  {
   "cell_type": "markdown",
   "metadata": {},
   "source": [
    "#### Release Year\n",
    "Recent movies have more records than older ones. This could be due to \n",
    ">* Unavailability of records for old movies, or \n",
    ">* because it is easier to gather data about recent movies. or\n",
    ">* It could mean that movies become easier to produce as time progresses, hence more movies are produced. Or \n",
    ">* it could be a combination of such reasons"
   ]
  },
  {
   "cell_type": "code",
   "execution_count": 16,
   "metadata": {
    "scrolled": false
   },
   "outputs": [
    {
     "data": {
      "image/png": "[encoded data removed]",
      "text/plain": [
       "<Figure size 432x288 with 1 Axes>"
      ]
     },
     "metadata": {
      "needs_background": "light"
     },
     "output_type": "display_data"
    }
   ],
   "source": [
    "df_mod.release_year.hist(bins = 100);\n",
    "plt.xlabel(\"Release Year\");"
   ]
  },
  {
   "cell_type": "markdown",
   "metadata": {},
   "source": [
    "#### Popularity\n",
    "Popularity also seems to have an exponential distribution, with most movies being less popular, and a few being very popular. This can be intuitive since not all movies are memorable, and only a handful tend to stick in people's memories, and only a very few are extremely famous."
   ]
  },
  {
   "cell_type": "code",
   "execution_count": 17,
   "metadata": {
    "scrolled": true
   },
   "outputs": [
    {
     "data": {
      "image/png": "[encoded data removed]",
      "text/plain": [
       "<Figure size 432x288 with 2 Axes>"
      ]
     },
     "metadata": {
      "needs_background": "light"
     },
     "output_type": "display_data"
    }
   ],
   "source": [
    "# First, plot upto the 90th percentile\n",
    "# subplot to draw the graphs next to each other\n",
    "plt.subplot(1,2,1);\n",
    "perc = df_mod.popularity.quantile(q = 0.98) # the 98th percentile\n",
    "plt.hist(df_mod.popularity, bins = 100, range=(0, perc)); \n",
    "\n",
    "plt.grid();  # grid\n",
    "plt.xlabel(\"Popularity\"); #label\n",
    "plt.title(\"Popularity to the 98th percentile\");\n",
    "\n",
    "# Second, plot the remaining data\n",
    "plt.subplot(1,2,2);\n",
    "plt.hist(df_mod.popularity, bins = 100, range=(perc, df_mod.popularity.max()));\n",
    "\n",
    "plt.xlabel(\"Popularity\");\n",
    "plt.title(\"Popularity from the 98th percentile to the maximum\");\n",
    "plt.grid();\n",
    "\n",
    "plt.subplots_adjust(right = 2);"
   ]
  },
  {
   "cell_type": "markdown",
   "metadata": {},
   "source": [
    "Let's see the 5 most popular movies"
   ]
  },
  {
   "cell_type": "code",
   "execution_count": 18,
   "metadata": {},
   "outputs": [
    {
     "data": {
      "image/png": "[encoded data removed]",
      "text/plain": [
       "<Figure size 432x288 with 1 Axes>"
      ]
     },
     "metadata": {
      "needs_background": "light"
     },
     "output_type": "display_data"
    }
   ],
   "source": [
    "# find the records of the top 5 famous movies\n",
    "top_5 = df_mod.sort_values(by = \"popularity\", ascending=False).iloc[:5] \n",
    "\n",
    "# use a bar plot\n",
    "plt.bar(x = top_5.original_title, height=top_5.popularity, width = 0.5);\n",
    "\n",
    "# Add and adjust labels to read them easily\n",
    "\n",
    "plt.ylabel(\"Popularity\");\n",
    "plt.title(\"The 5 most popular movies\");\n",
    "plt.xticks(rotation = 45);\n",
    "plt.grid();"
   ]
  },
  {
   "cell_type": "markdown",
   "metadata": {},
   "source": [
    "Indeed, these movies are very famous globally"
   ]
  },
  {
   "cell_type": "markdown",
   "metadata": {},
   "source": [
    "#### Investigating the `budget` and `revenue` columns"
   ]
  },
  {
   "cell_type": "markdown",
   "metadata": {},
   "source": [
    "From the summary statistics table, we can see that the median value in the budget and revenue columns is 0! <br>\n",
    "Movies can't have 0 budget. But, instead of claiming let's find an actual counterexample. <br>\n",
    "\n",
    "I will search for a movie with great number of `vote_counts` and with 0 budget"
   ]
  },
  {
   "cell_type": "code",
   "execution_count": 19,
   "metadata": {},
   "outputs": [
    {
     "data": {
      "text/html": [
       "<div>\n",
       "<style scoped>\n",
       "    .dataframe tbody tr th:only-of-type {\n",
       "        vertical-align: middle;\n",
       "    }\n",
       "\n",
       "    .dataframe tbody tr th {\n",
       "        vertical-align: top;\n",
       "    }\n",
       "\n",
       "    .dataframe thead th {\n",
       "        text-align: right;\n",
       "    }\n",
       "</style>\n",
       "<table border=\"1\" class=\"dataframe\">\n",
       "  <thead>\n",
       "    <tr style=\"text-align: right;\">\n",
       "      <th></th>\n",
       "      <th>popularity</th>\n",
       "      <th>budget</th>\n",
       "      <th>revenue</th>\n",
       "      <th>original_title</th>\n",
       "      <th>director</th>\n",
       "      <th>vote_count</th>\n",
       "      <th>vote_average</th>\n",
       "      <th>release_year</th>\n",
       "    </tr>\n",
       "  </thead>\n",
       "  <tbody>\n",
       "    <tr>\n",
       "      <th>7410</th>\n",
       "      <td>1.901256</td>\n",
       "      <td>0</td>\n",
       "      <td>80573774</td>\n",
       "      <td>Hot Fuzz</td>\n",
       "      <td>Edgar Wright</td>\n",
       "      <td>1329</td>\n",
       "      <td>7.2</td>\n",
       "      <td>2007</td>\n",
       "    </tr>\n",
       "    <tr>\n",
       "      <th>5450</th>\n",
       "      <td>2.195536</td>\n",
       "      <td>0</td>\n",
       "      <td>87100449</td>\n",
       "      <td>About Time</td>\n",
       "      <td>Richard Curtis</td>\n",
       "      <td>1329</td>\n",
       "      <td>7.7</td>\n",
       "      <td>2013</td>\n",
       "    </tr>\n",
       "    <tr>\n",
       "      <th>746</th>\n",
       "      <td>1.211609</td>\n",
       "      <td>0</td>\n",
       "      <td>0</td>\n",
       "      <td>A Million Ways to Die in the West</td>\n",
       "      <td>Seth MacFarlane</td>\n",
       "      <td>1074</td>\n",
       "      <td>5.9</td>\n",
       "      <td>2014</td>\n",
       "    </tr>\n",
       "    <tr>\n",
       "      <th>2419</th>\n",
       "      <td>1.945894</td>\n",
       "      <td>0</td>\n",
       "      <td>0</td>\n",
       "      <td>Tarzan</td>\n",
       "      <td>Chris Buck|Kevin Lima</td>\n",
       "      <td>912</td>\n",
       "      <td>6.9</td>\n",
       "      <td>1999</td>\n",
       "    </tr>\n",
       "    <tr>\n",
       "      <th>693</th>\n",
       "      <td>2.295091</td>\n",
       "      <td>0</td>\n",
       "      <td>4439431</td>\n",
       "      <td>Love, Rosie</td>\n",
       "      <td>Christian Ditter</td>\n",
       "      <td>904</td>\n",
       "      <td>7.6</td>\n",
       "      <td>2014</td>\n",
       "    </tr>\n",
       "  </tbody>\n",
       "</table>\n",
       "</div>"
      ],
      "text/plain": [
       "      popularity  budget   revenue                     original_title  \\\n",
       "7410    1.901256       0  80573774                           Hot Fuzz   \n",
       "5450    2.195536       0  87100449                         About Time   \n",
       "746     1.211609       0         0  A Million Ways to Die in the West   \n",
       "2419    1.945894       0         0                             Tarzan   \n",
       "693     2.295091       0   4439431                        Love, Rosie   \n",
       "\n",
       "                   director  vote_count  vote_average  release_year  \n",
       "7410           Edgar Wright        1329           7.2          2007  \n",
       "5450         Richard Curtis        1329           7.7          2013  \n",
       "746         Seth MacFarlane        1074           5.9          2014  \n",
       "2419  Chris Buck|Kevin Lima         912           6.9          1999  \n",
       "693        Christian Ditter         904           7.6          2014  "
      ]
     },
     "execution_count": 19,
     "metadata": {},
     "output_type": "execute_result"
    }
   ],
   "source": [
    "# query for zero budget, and sort by vote count descendingly\n",
    "df_mod[df_mod.budget < 1].sort_values(by=\"vote_count\", ascending=False).iloc[:5]"
   ]
  },
  {
   "cell_type": "markdown",
   "metadata": {},
   "source": [
    "So, in the first entry, it looks that the movie **Hot Fuzz** had a budget of 0! This movie starred a lot of British actors. Upon searching online, the budget of the movie is actually 8 million pounds.\n",
    "\n",
    "Also, in the 4th entry, it looks like the movie **Tarzan** had 0 budget and gained 0 revenues! This is clearly wrong.\n",
    "\n",
    "Accordingly, the records with 0 budget or 0 revenue could have been missing, and filled with 0 by default. For any analysis that includes budget and/or revenue, I will have to use a mask"
   ]
  },
  {
   "cell_type": "code",
   "execution_count": 20,
   "metadata": {
    "scrolled": true
   },
   "outputs": [
    {
     "name": "stdout",
     "output_type": "stream",
     "text": [
      "The number of records with non-zero budget and revenue: 3851\n"
     ]
    }
   ],
   "source": [
    "# create a mask to exclude records with 0 budget\n",
    "budget_mask = df_mod.budget > 1\n",
    "rev_mask = df_mod.revenue > 1\n",
    "money_mask = (budget_mask) & (rev_mask)\n",
    "# cheking the number of records with non-zero budget and revenue\n",
    "print(\"The number of records with non-zero budget and revenue:\", money_mask.sum())"
   ]
  },
  {
   "cell_type": "markdown",
   "metadata": {},
   "source": [
    "##### Now for the distribution of budget\n",
    "Choosing a log scale for the x axis would be more apporpriate, since budget values can reach to hundreds of millions"
   ]
  },
  {
   "cell_type": "code",
   "execution_count": 21,
   "metadata": {
    "scrolled": true
   },
   "outputs": [
    {
     "data": {
      "image/png": "[encoded data removed]",
      "text/plain": [
       "<Figure size 432x288 with 1 Axes>"
      ]
     },
     "metadata": {
      "needs_background": "light"
     },
     "output_type": "display_data"
    }
   ],
   "source": [
    "# get the values in log scale and applying the budget mask\n",
    "budget_log = np.log10(df_mod.budget[budget_mask]);\n",
    "# plot\n",
    "plt.hist(x = budget_log, bins = 100);\n",
    "# adjust the axis ticks\n",
    "axis_ticks = np.array([0,1,2,3,4,5,6,7,8])\n",
    "plt.xticks(ticks = axis_ticks, labels = [\"$10^{}$\".format(x) for x in axis_ticks]);\n",
    "# labelling and giving a title\n",
    "plt.grid();\n",
    "plt.xlabel(\"Budget (log scale)\");\n",
    "plt.title(\"Budget Histogram\");"
   ]
  },
  {
   "cell_type": "markdown",
   "metadata": {},
   "source": [
    "So, it looks that the distribution of the masked budget records is on average between 10 million and a 100 million. The distribution is also left skewed"
   ]
  },
  {
   "cell_type": "markdown",
   "metadata": {},
   "source": [
    "##### As for the Revenue Distribution,"
   ]
  },
  {
   "cell_type": "code",
   "execution_count": 22,
   "metadata": {
    "scrolled": false
   },
   "outputs": [
    {
     "data": {
      "image/png": "[encoded data removed]",
      "text/plain": [
       "<Figure size 432x288 with 1 Axes>"
      ]
     },
     "metadata": {
      "needs_background": "light"
     },
     "output_type": "display_data"
    }
   ],
   "source": [
    "# get the values in log scale and applying the revenue mask\n",
    "rev_log = np.log10(df_mod.revenue[rev_mask]);\n",
    "# plot\n",
    "plt.hist(x = rev_log, bins = 100);\n",
    "# adjust the axis ticks\n",
    "axis_ticks = np.array([0,1,2,3,4,5,6,7,8,9])\n",
    "plt.xticks(ticks = axis_ticks, labels = [\"$10^{}$\".format(x) for x in axis_ticks]);\n",
    "# labelling and giving a title\n",
    "plt.grid();\n",
    "plt.xlabel(\"Budget (log scale)\");\n",
    "plt.title(\"Budget Histogram\");"
   ]
  },
  {
   "cell_type": "markdown",
   "metadata": {},
   "source": [
    "The distribution looks similar to that of the budget, but more skewed to the left. We can see that if we plot both distributions on top of each other"
   ]
  },
  {
   "cell_type": "code",
   "execution_count": 24,
   "metadata": {
    "scrolled": true
   },
   "outputs": [
    {
     "data": {
      "image/png": "[encoded data removed]",
      "text/plain": [
       "<Figure size 432x288 with 1 Axes>"
      ]
     },
     "metadata": {
      "needs_background": "light"
     },
     "output_type": "display_data"
    }
   ],
   "source": [
    "# get the rows where both revenue and budget are non zero in log scale\n",
    "rev_log = np.log10(df_mod.revenue[money_mask])\n",
    "budget_log = np.log10(df_mod.budget[money_mask])\n",
    "\n",
    "# plotting\n",
    "plt.hist(x = rev_log, bins = 100, alpha = 0.5, label = \"revenue\");\n",
    "plt.hist(x = budget_log, bins = 100, alpha = 0.5, label = \"budget\");\n",
    "# adjust the axis ticks\n",
    "axis_ticks = np.array([0,1,2,3,4,5,6,7,8,9])\n",
    "plt.xticks(ticks = axis_ticks, labels = [\"$10^{}$\".format(x) for x in axis_ticks]);\n",
    "# labelling \n",
    "plt.grid();\n",
    "plt.legend();\n",
    "plt.title(\"Reveue and Budget Distributions\");\n",
    "plt.xlabel(\"Money (log scale)\");"
   ]
  },
  {
   "cell_type": "markdown",
   "metadata": {},
   "source": [
    "Obviously, the revenues need to be generally greater than the budget, otherwise, filmmaking wouldn't have been such a successful business."
   ]
  },
  {
   "cell_type": "markdown",
   "metadata": {},
   "source": [
    "##### That concludes our univariate analysis. In it we,\n",
    "* Explored the attributes through summary statistics and vsiualization (along with some visualization challenges)\n",
    "* We also faced some limitations, like having more data about recent movies than older ones, and also having many records that had 0 budget and 0 revenue. We went through how to handle the latter limitation, should we want to use the revenue and budget columns in any further analysis"
   ]
  },
  {
   "cell_type": "markdown",
   "metadata": {},
   "source": [
    "### Research Questions:\n",
    "Now, we move onward to answer our questions.\n",
    "\n",
    "Before we do, we can get an overview of the linear corrleation by plotting the correlation heatmap. This lets us quickly visualize the linear correlation between different columns"
   ]
  },
  {
   "cell_type": "markdown",
   "metadata": {},
   "source": [
    "#### Correlation Heatmap\n"
   ]
  },
  {
   "cell_type": "code",
   "execution_count": 44,
   "metadata": {
    "scrolled": true
   },
   "outputs": [
    {
     "data": {
      "image/png": "[encoded data removed]",
      "text/plain": [
       "<Figure size 432x288 with 2 Axes>"
      ]
     },
     "metadata": {
      "needs_background": "light"
     },
     "output_type": "display_data"
    }
   ],
   "source": [
    "# The correlation heatmap for all records\n",
    "correl = df_mod.corr()\n",
    "sns.heatmap(data = correl,cmap = \"coolwarm\", annot = True);\n",
    "plt.xticks(rotation = 45);\n",
    "plt.title(\"Correlatio Heatmap of all records\");"
   ]
  },
  {
   "cell_type": "markdown",
   "metadata": {},
   "source": [
    "From this heatmap, we can see that:\n",
    "\n",
    "* There is a **weak positive correlation** between popularity and the vote average! <br>\n",
    "* However, we didn't take into account the influence of vote average records with small number of vote_count. We need to filter them out <br>\n",
    "* Also, in order to correclty assess revenue and budget, we need to use the mask<br>\n",
    "We will take care of these points"
   ]
  },
  {
   "cell_type": "markdown",
   "metadata": {},
   "source": [
    "##### Acconuting for the masked records"
   ]
  },
  {
   "cell_type": "code",
   "execution_count": 56,
   "metadata": {
    "scrolled": false
   },
   "outputs": [
    {
     "data": {
      "image/png": "[encoded data removed]",
      "text/plain": [
       "<Figure size 432x288 with 2 Axes>"
      ]
     },
     "metadata": {
      "needs_background": "light"
     },
     "output_type": "display_data"
    }
   ],
   "source": [
    "# The correlation heatmap for masked records\n",
    "correl = df_mod[rev_mask].corr()\n",
    "sns.heatmap(data = correl,cmap = \"coolwarm\", annot=True);\n",
    "plt.xticks(rotation = 45);\n",
    "plt.title(\"Heatmap of the masked records\");"
   ]
  },
  {
   "cell_type": "markdown",
   "metadata": {},
   "source": [
    "We can see that:\n",
    "* The revenue has a positive correlation with the budget\n",
    "* The revenue has a weaker positive correlation with the voting average\n",
    "* The revenue has a positive correlation with popularity.\n",
    "So, it looks like the revenue is more correlated with the popularity and budget rather than the voting average"
   ]
  },
  {
   "cell_type": "markdown",
   "metadata": {},
   "source": [
    "##### Now we try filtering out low values of vote_count\n",
    "We have to be careful though, as there is a tradeoff between the vote_count threshold, and the number of records that are above this threshold.\n",
    "* Suppose we take 500 votes to be our threshold\n",
    "* If only a 5% of the records meet this threshold, then the records used are too few\n",
    "* If we make our threshold too low, like 50, and like 70% of our records meet the threshold, then some of the records will not be representative of a true voting average.\n",
    "So, we want a threshold that is good enough, to represent a good percentage of the records, and take records that are representative of the voting average"
   ]
  },
  {
   "cell_type": "markdown",
   "metadata": {},
   "source": [
    "I will iteratively try to find a good threshold"
   ]
  },
  {
   "cell_type": "code",
   "execution_count": 54,
   "metadata": {
    "scrolled": true
   },
   "outputs": [
    {
     "name": "stdout",
     "output_type": "stream",
     "text": [
      "10.24074074074074 % of the data passes the 500 votes threshold\n",
      "12.36111111111111 % of the data passes the 400 votes threshold\n",
      "15.453703703703702 % of the data passes the 300 votes threshold\n",
      "20.37962962962963 % of the data passes the 200 votes threshold\n",
      "30.62962962962963 % of the data passes the 100 votes threshold\n",
      "43.583333333333336 % of the data passes the 50 votes threshold\n",
      "48.97222222222222 % of the data passes the 40 votes threshold\n",
      "55.96296296296296 % of the data passes the 30 votes threshold\n"
     ]
    }
   ],
   "source": [
    "vote_count_thresh = [500,400,300,200,100, 50, 40, 30]\n",
    "for count in vote_count_thresh:\n",
    "    filtered = df_mod[df_mod.vote_count > count]\n",
    "    print(len(filtered) / len(df_mod) * 100,\"% of the data passes the\", count, \"votes threshold\")"
   ]
  },
  {
   "cell_type": "markdown",
   "metadata": {},
   "source": [
    "I think a threshold of 30 votes is good enough"
   ]
  },
  {
   "cell_type": "code",
   "execution_count": 60,
   "metadata": {
    "scrolled": false
   },
   "outputs": [
    {
     "data": {
      "image/png": "[encoded data removed]",
      "text/plain": [
       "<Figure size 432x288 with 2 Axes>"
      ]
     },
     "metadata": {
      "needs_background": "light"
     },
     "output_type": "display_data"
    }
   ],
   "source": [
    "# The correlation heatmap for masked records and filtered vote_counts\n",
    "correl = df_mod[(money_mask) & (df_mod.vote_count > 30)].corr()\n",
    "sns.heatmap(data = correl,cmap = \"coolwarm\", annot=True);\n",
    "plt.xticks(rotation = 45);\n",
    "plt.title(\"Heatmap after filtering out low vote counts\");"
   ]
  },
  {
   "cell_type": "markdown",
   "metadata": {},
   "source": [
    "We can see the effect of filtering out low vote counts, the revenue has a somewhat stronger corrleation with vote average.<br>\n",
    "However, there is a limitation with this method, since the vote count is coupled with the popularity, which is itself coupled with the revenue."
   ]
  },
  {
   "cell_type": "markdown",
   "metadata": {},
   "source": [
    "#### Now, let's visualize the realtionships using plots\n",
    "##### Vote average Vs Popularity"
   ]
  },
  {
   "cell_type": "code",
   "execution_count": 70,
   "metadata": {
    "scrolled": true
   },
   "outputs": [
    {
     "data": {
      "image/png": "[encoded data removed]",
      "text/plain": [
       "<Figure size 432x288 with 1 Axes>"
      ]
     },
     "metadata": {
      "needs_background": "light"
     },
     "output_type": "display_data"
    }
   ],
   "source": [
    "# filter out low votes\n",
    "votes_mask = df_mod.vote_count > 30\n",
    "# Scatter plot\n",
    "plt.scatter(y = df_mod[votes_mask].vote_average, x = df_mod[votes_mask].popularity);\n",
    "plt.ylabel(\"Vote Average\");\n",
    "plt.xlabel(\"Populairty\");\n",
    "plt.title(\"Voting average vs popularity\");\n",
    "plt.grid();"
   ]
  },
  {
   "cell_type": "markdown",
   "metadata": {},
   "source": [
    "So, it seems there is indeed a positive correlation between popularity and the vote average"
   ]
  },
  {
   "cell_type": "markdown",
   "metadata": {},
   "source": [
    "#####  Revenue vs Vote Average "
   ]
  },
  {
   "cell_type": "code",
   "execution_count": 73,
   "metadata": {
    "scrolled": true
   },
   "outputs": [
    {
     "data": {
      "image/png": "[encoded data removed]",
      "text/plain": [
       "<Figure size 432x288 with 1 Axes>"
      ]
     },
     "metadata": {
      "needs_background": "light"
     },
     "output_type": "display_data"
    }
   ],
   "source": [
    "# Scatter plot\n",
    "plt.scatter(x = df_mod[(votes_mask)& (rev_mask)].vote_average, y = df_mod[(votes_mask)&(rev_mask)].revenue);\n",
    "plt.xlabel(\"Vote Average\");\n",
    "plt.ylabel(\"Revenue\");\n",
    "plt.title(\"Revenue vs Vote Average\");\n",
    "plt.grid();"
   ]
  },
  {
   "cell_type": "markdown",
   "metadata": {},
   "source": [
    "So, it seems there is a positive correlation between the Revenue and the vote average"
   ]
  },
  {
   "cell_type": "markdown",
   "metadata": {},
   "source": [
    "##### Revenue vs Popularity"
   ]
  },
  {
   "cell_type": "code",
   "execution_count": 77,
   "metadata": {
    "scrolled": true
   },
   "outputs": [
    {
     "data": {
      "image/png": "[encoded data removed]",
      "text/plain": [
       "<Figure size 432x288 with 1 Axes>"
      ]
     },
     "metadata": {
      "needs_background": "light"
     },
     "output_type": "display_data"
    }
   ],
   "source": [
    "# Scatter plot\n",
    "plt.scatter(x = df_mod[(rev_mask)].popularity, y = df_mod[(rev_mask)].revenue);\n",
    "plt.xlabel(\"Popularity\");\n",
    "plt.ylabel(\"Revenue\");\n",
    "plt.title(\"Revenue vs Popularity\");\n",
    "plt.grid();"
   ]
  },
  {
   "cell_type": "markdown",
   "metadata": {},
   "source": [
    "So, it looks like there is a strong correlation between popularity and revenue"
   ]
  },
  {
   "cell_type": "markdown",
   "metadata": {},
   "source": [
    "##### So, our scatter plots tell us about the positive correlations between the revenue, vote average, and popularity, However, correlation does not mean causality. This analysis does not tell us what caused the other"
   ]
  },
  {
   "cell_type": "markdown",
   "metadata": {},
   "source": [
    "#### Now, we move on to our last question, the genres vs revenue\n",
    "For that, we will need to mask on the revenue, and join our dataframe, with the genres dataframe"
   ]
  },
  {
   "cell_type": "code",
   "execution_count": 80,
   "metadata": {
    "scrolled": true
   },
   "outputs": [
    {
     "data": {
      "text/html": [
       "<div>\n",
       "<style scoped>\n",
       "    .dataframe tbody tr th:only-of-type {\n",
       "        vertical-align: middle;\n",
       "    }\n",
       "\n",
       "    .dataframe tbody tr th {\n",
       "        vertical-align: top;\n",
       "    }\n",
       "\n",
       "    .dataframe thead th {\n",
       "        text-align: right;\n",
       "    }\n",
       "</style>\n",
       "<table border=\"1\" class=\"dataframe\">\n",
       "  <thead>\n",
       "    <tr style=\"text-align: right;\">\n",
       "      <th></th>\n",
       "      <th>action</th>\n",
       "      <th>adventure</th>\n",
       "      <th>animation</th>\n",
       "      <th>comedy</th>\n",
       "      <th>crime</th>\n",
       "      <th>documentary</th>\n",
       "      <th>drama</th>\n",
       "      <th>family</th>\n",
       "      <th>fantasy</th>\n",
       "      <th>foreign</th>\n",
       "      <th>...</th>\n",
       "      <th>horror</th>\n",
       "      <th>music</th>\n",
       "      <th>mystery</th>\n",
       "      <th>romance</th>\n",
       "      <th>science_fiction</th>\n",
       "      <th>tv_movie</th>\n",
       "      <th>thriller</th>\n",
       "      <th>war</th>\n",
       "      <th>western</th>\n",
       "      <th>revenue</th>\n",
       "    </tr>\n",
       "  </thead>\n",
       "  <tbody>\n",
       "    <tr>\n",
       "      <th>0</th>\n",
       "      <td>1</td>\n",
       "      <td>1</td>\n",
       "      <td>0</td>\n",
       "      <td>0</td>\n",
       "      <td>0</td>\n",
       "      <td>0</td>\n",
       "      <td>0</td>\n",
       "      <td>0</td>\n",
       "      <td>0</td>\n",
       "      <td>0</td>\n",
       "      <td>...</td>\n",
       "      <td>0</td>\n",
       "      <td>0</td>\n",
       "      <td>0</td>\n",
       "      <td>0</td>\n",
       "      <td>1</td>\n",
       "      <td>0</td>\n",
       "      <td>1</td>\n",
       "      <td>0</td>\n",
       "      <td>0</td>\n",
       "      <td>1513528810</td>\n",
       "    </tr>\n",
       "    <tr>\n",
       "      <th>1</th>\n",
       "      <td>1</td>\n",
       "      <td>1</td>\n",
       "      <td>0</td>\n",
       "      <td>0</td>\n",
       "      <td>0</td>\n",
       "      <td>0</td>\n",
       "      <td>0</td>\n",
       "      <td>0</td>\n",
       "      <td>0</td>\n",
       "      <td>0</td>\n",
       "      <td>...</td>\n",
       "      <td>0</td>\n",
       "      <td>0</td>\n",
       "      <td>0</td>\n",
       "      <td>0</td>\n",
       "      <td>1</td>\n",
       "      <td>0</td>\n",
       "      <td>1</td>\n",
       "      <td>0</td>\n",
       "      <td>0</td>\n",
       "      <td>378436354</td>\n",
       "    </tr>\n",
       "    <tr>\n",
       "      <th>2</th>\n",
       "      <td>0</td>\n",
       "      <td>1</td>\n",
       "      <td>0</td>\n",
       "      <td>0</td>\n",
       "      <td>0</td>\n",
       "      <td>0</td>\n",
       "      <td>0</td>\n",
       "      <td>0</td>\n",
       "      <td>0</td>\n",
       "      <td>0</td>\n",
       "      <td>...</td>\n",
       "      <td>0</td>\n",
       "      <td>0</td>\n",
       "      <td>0</td>\n",
       "      <td>0</td>\n",
       "      <td>1</td>\n",
       "      <td>0</td>\n",
       "      <td>1</td>\n",
       "      <td>0</td>\n",
       "      <td>0</td>\n",
       "      <td>295238201</td>\n",
       "    </tr>\n",
       "    <tr>\n",
       "      <th>3</th>\n",
       "      <td>1</td>\n",
       "      <td>1</td>\n",
       "      <td>0</td>\n",
       "      <td>0</td>\n",
       "      <td>0</td>\n",
       "      <td>0</td>\n",
       "      <td>0</td>\n",
       "      <td>0</td>\n",
       "      <td>1</td>\n",
       "      <td>0</td>\n",
       "      <td>...</td>\n",
       "      <td>0</td>\n",
       "      <td>0</td>\n",
       "      <td>0</td>\n",
       "      <td>0</td>\n",
       "      <td>1</td>\n",
       "      <td>0</td>\n",
       "      <td>0</td>\n",
       "      <td>0</td>\n",
       "      <td>0</td>\n",
       "      <td>2068178225</td>\n",
       "    </tr>\n",
       "    <tr>\n",
       "      <th>4</th>\n",
       "      <td>1</td>\n",
       "      <td>0</td>\n",
       "      <td>0</td>\n",
       "      <td>0</td>\n",
       "      <td>1</td>\n",
       "      <td>0</td>\n",
       "      <td>0</td>\n",
       "      <td>0</td>\n",
       "      <td>0</td>\n",
       "      <td>0</td>\n",
       "      <td>...</td>\n",
       "      <td>0</td>\n",
       "      <td>0</td>\n",
       "      <td>0</td>\n",
       "      <td>0</td>\n",
       "      <td>0</td>\n",
       "      <td>0</td>\n",
       "      <td>1</td>\n",
       "      <td>0</td>\n",
       "      <td>0</td>\n",
       "      <td>1506249360</td>\n",
       "    </tr>\n",
       "    <tr>\n",
       "      <th>...</th>\n",
       "      <td>...</td>\n",
       "      <td>...</td>\n",
       "      <td>...</td>\n",
       "      <td>...</td>\n",
       "      <td>...</td>\n",
       "      <td>...</td>\n",
       "      <td>...</td>\n",
       "      <td>...</td>\n",
       "      <td>...</td>\n",
       "      <td>...</td>\n",
       "      <td>...</td>\n",
       "      <td>...</td>\n",
       "      <td>...</td>\n",
       "      <td>...</td>\n",
       "      <td>...</td>\n",
       "      <td>...</td>\n",
       "      <td>...</td>\n",
       "      <td>...</td>\n",
       "      <td>...</td>\n",
       "      <td>...</td>\n",
       "      <td>...</td>\n",
       "    </tr>\n",
       "    <tr>\n",
       "      <th>10822</th>\n",
       "      <td>0</td>\n",
       "      <td>0</td>\n",
       "      <td>0</td>\n",
       "      <td>0</td>\n",
       "      <td>0</td>\n",
       "      <td>0</td>\n",
       "      <td>1</td>\n",
       "      <td>0</td>\n",
       "      <td>0</td>\n",
       "      <td>0</td>\n",
       "      <td>...</td>\n",
       "      <td>0</td>\n",
       "      <td>0</td>\n",
       "      <td>0</td>\n",
       "      <td>0</td>\n",
       "      <td>0</td>\n",
       "      <td>0</td>\n",
       "      <td>0</td>\n",
       "      <td>0</td>\n",
       "      <td>0</td>\n",
       "      <td>33736689</td>\n",
       "    </tr>\n",
       "    <tr>\n",
       "      <th>10828</th>\n",
       "      <td>0</td>\n",
       "      <td>0</td>\n",
       "      <td>0</td>\n",
       "      <td>0</td>\n",
       "      <td>0</td>\n",
       "      <td>0</td>\n",
       "      <td>0</td>\n",
       "      <td>0</td>\n",
       "      <td>0</td>\n",
       "      <td>0</td>\n",
       "      <td>...</td>\n",
       "      <td>0</td>\n",
       "      <td>0</td>\n",
       "      <td>1</td>\n",
       "      <td>0</td>\n",
       "      <td>0</td>\n",
       "      <td>0</td>\n",
       "      <td>1</td>\n",
       "      <td>0</td>\n",
       "      <td>0</td>\n",
       "      <td>13000000</td>\n",
       "    </tr>\n",
       "    <tr>\n",
       "      <th>10829</th>\n",
       "      <td>1</td>\n",
       "      <td>0</td>\n",
       "      <td>0</td>\n",
       "      <td>0</td>\n",
       "      <td>0</td>\n",
       "      <td>0</td>\n",
       "      <td>0</td>\n",
       "      <td>0</td>\n",
       "      <td>0</td>\n",
       "      <td>0</td>\n",
       "      <td>...</td>\n",
       "      <td>0</td>\n",
       "      <td>0</td>\n",
       "      <td>0</td>\n",
       "      <td>0</td>\n",
       "      <td>0</td>\n",
       "      <td>0</td>\n",
       "      <td>0</td>\n",
       "      <td>0</td>\n",
       "      <td>1</td>\n",
       "      <td>6000000</td>\n",
       "    </tr>\n",
       "    <tr>\n",
       "      <th>10835</th>\n",
       "      <td>1</td>\n",
       "      <td>1</td>\n",
       "      <td>0</td>\n",
       "      <td>0</td>\n",
       "      <td>0</td>\n",
       "      <td>0</td>\n",
       "      <td>1</td>\n",
       "      <td>0</td>\n",
       "      <td>0</td>\n",
       "      <td>0</td>\n",
       "      <td>...</td>\n",
       "      <td>0</td>\n",
       "      <td>0</td>\n",
       "      <td>0</td>\n",
       "      <td>1</td>\n",
       "      <td>0</td>\n",
       "      <td>0</td>\n",
       "      <td>0</td>\n",
       "      <td>1</td>\n",
       "      <td>0</td>\n",
       "      <td>20000000</td>\n",
       "    </tr>\n",
       "    <tr>\n",
       "      <th>10848</th>\n",
       "      <td>0</td>\n",
       "      <td>1</td>\n",
       "      <td>0</td>\n",
       "      <td>0</td>\n",
       "      <td>0</td>\n",
       "      <td>0</td>\n",
       "      <td>0</td>\n",
       "      <td>0</td>\n",
       "      <td>0</td>\n",
       "      <td>0</td>\n",
       "      <td>...</td>\n",
       "      <td>0</td>\n",
       "      <td>0</td>\n",
       "      <td>0</td>\n",
       "      <td>0</td>\n",
       "      <td>1</td>\n",
       "      <td>0</td>\n",
       "      <td>0</td>\n",
       "      <td>0</td>\n",
       "      <td>0</td>\n",
       "      <td>12000000</td>\n",
       "    </tr>\n",
       "  </tbody>\n",
       "</table>\n",
       "<p>4848 rows × 21 columns</p>\n",
       "</div>"
      ],
      "text/plain": [
       "       action  adventure  animation  comedy  crime  documentary  drama  \\\n",
       "0           1          1          0       0      0            0      0   \n",
       "1           1          1          0       0      0            0      0   \n",
       "2           0          1          0       0      0            0      0   \n",
       "3           1          1          0       0      0            0      0   \n",
       "4           1          0          0       0      1            0      0   \n",
       "...       ...        ...        ...     ...    ...          ...    ...   \n",
       "10822       0          0          0       0      0            0      1   \n",
       "10828       0          0          0       0      0            0      0   \n",
       "10829       1          0          0       0      0            0      0   \n",
       "10835       1          1          0       0      0            0      1   \n",
       "10848       0          1          0       0      0            0      0   \n",
       "\n",
       "       family  fantasy  foreign  ...  horror  music  mystery  romance  \\\n",
       "0           0        0        0  ...       0      0        0        0   \n",
       "1           0        0        0  ...       0      0        0        0   \n",
       "2           0        0        0  ...       0      0        0        0   \n",
       "3           0        1        0  ...       0      0        0        0   \n",
       "4           0        0        0  ...       0      0        0        0   \n",
       "...       ...      ...      ...  ...     ...    ...      ...      ...   \n",
       "10822       0        0        0  ...       0      0        0        0   \n",
       "10828       0        0        0  ...       0      0        1        0   \n",
       "10829       0        0        0  ...       0      0        0        0   \n",
       "10835       0        0        0  ...       0      0        0        1   \n",
       "10848       0        0        0  ...       0      0        0        0   \n",
       "\n",
       "       science_fiction  tv_movie  thriller  war  western     revenue  \n",
       "0                    1         0         1    0        0  1513528810  \n",
       "1                    1         0         1    0        0   378436354  \n",
       "2                    1         0         1    0        0   295238201  \n",
       "3                    1         0         0    0        0  2068178225  \n",
       "4                    0         0         1    0        0  1506249360  \n",
       "...                ...       ...       ...  ...      ...         ...  \n",
       "10822                0         0         0    0        0    33736689  \n",
       "10828                0         0         1    0        0    13000000  \n",
       "10829                0         0         0    0        1     6000000  \n",
       "10835                0         0         0    1        0    20000000  \n",
       "10848                1         0         0    0        0    12000000  \n",
       "\n",
       "[4848 rows x 21 columns]"
      ]
     },
     "execution_count": 80,
     "metadata": {},
     "output_type": "execute_result"
    }
   ],
   "source": [
    "joined = genres.join(other= df_mod[rev_mask].revenue, how = \"right\")\n",
    "joined"
   ]
  },
  {
   "cell_type": "markdown",
   "metadata": {},
   "source": [
    "To answer our question, we need to get the gross revenue for each genre"
   ]
  },
  {
   "cell_type": "code",
   "execution_count": 89,
   "metadata": {},
   "outputs": [],
   "source": [
    "# get the columns to iterate over them\n",
    "genres_cols = genres.columns\n",
    "# initialize a dictionary to map each genre to its gross revenue\n",
    "genre_dict = dict()\n",
    "# iterate over the generes\n",
    "for genre in genres_cols:\n",
    "    # convert to bool to act like a mask\n",
    "    genre_mask = joined[genre].astype(bool)\n",
    "    # get the gross revenue\n",
    "    genre_dict[genre] = joined[genre_mask].revenue.sum()"
   ]
  },
  {
   "cell_type": "markdown",
   "metadata": {},
   "source": [
    "Now, we can plot a barplot showing each genre and its gross revenue"
   ]
  },
  {
   "cell_type": "code",
   "execution_count": 118,
   "metadata": {},
   "outputs": [],
   "source": [
    "# sort the dictionary to make the bar plot look nicer\n",
    "sorted_genre_dict = {k:v for k,v in sorted(genre_dict.items(), key=lambda item: item[1], reverse=True)}"
   ]
  },
  {
   "cell_type": "code",
   "execution_count": 120,
   "metadata": {},
   "outputs": [
    {
     "data": {
      "image/png": "[encoded data removed]",
      "text/plain": [
       "<Figure size 720x576 with 1 Axes>"
      ]
     },
     "metadata": {
      "needs_background": "light"
     },
     "output_type": "display_data"
    }
   ],
   "source": [
    "# plotting\n",
    "plt.figure(figsize= (10,8));\n",
    "plt.bar(x = sorted_genre_dict.keys(), height=sorted_genre_dict.values());\n",
    "plt.xticks(rotation = 45);\n",
    "plt.xlabel(\"Genre\");\n",
    "plt.ylabel(\"Gross Revenue\");\n",
    "plt.title(\"Revenue Vs Genre\");"
   ]
  },
  {
   "cell_type": "markdown",
   "metadata": {},
   "source": [
    "We can see that the `action` genre had the most revenue. <br>\n",
    "However, we mustn't forget 2 facts:\n",
    "* The number of valid records in terms of revenue is less than half the dataset\n",
    "* We didn't account for inflation for older movies\n",
    "These are the limitations of this bar plot"
   ]
  },
  {
   "cell_type": "markdown",
   "metadata": {},
   "source": [
    "## Conclusion\n",
    "This dataset included about 10 thousand records of movies from different genres and form different times across the 20th and 21st century. We wanted to explore the distributions of different variables, as wellas the relationship between them. Specifically the revenue, the popularity, the average voting score and the genre. <br>\n",
    "One might think that the average voting is a better predictor of a movie's financial success, rather than its popularity. Another might thinnk otherwise. In such cases, it is better for all to sit down, and let the data talk through analysis. Although, we should hear what the data says, with a pinch of salt, taking care of any limitations within the analysis or the data itself.\n",
    "\n",
    "After performing some data cleaning, and putting the data into a clear, clean format, we reached the following results:\n",
    "* There is a positive correlation between the revenue and each of popularity and the average voting\n",
    "* The correlation of revenue with the popularity is **significantly stronger** than that with the average voting. So a successfull movie is more likely to be popular than it having a good average rating\n",
    "* The action genre is the highest grossing movie genre. (on total Not per movie)<br>\n",
    "Note: The correlation doesn't mean causality. These results do not tell us which factor caused the other.\n",
    "\n",
    "#### Limitations:\n",
    "* First and formeost, all of the analysis is done on  a sample, and not on the population. So, any conclusion should be conveyed within this context\n",
    "* Nearly 50% of the records had missing values in the revenue column. This adds uncertainty to our results that could have changed if the data wasn't missing\n",
    "* We didn't account for inflation due to different release times of movies. That would significanlty affect the revenues especially if a movie is really old"
   ]
  },
  {
   "cell_type": "markdown",
   "metadata": {},
   "source": [
    "## References\n",
    "* https://stackoverflow.com/questions/613183/how-do-i-sort-a-dictionary-by-value\n",
    "* https://stackoverflow.com/questions/39409866/correlation-heatmap"
   ]
  }
 ],
 "metadata": {
  "kernelspec": {
   "display_name": "Python 3.7.4 64-bit ('base': conda)",
   "language": "python",
   "name": "python37464bitbasecondadf9137a8b6d645d581457f275d57d6a9"
  },
  "language_info": {
   "codemirror_mode": {
    "name": "ipython",
    "version": 3
   },
   "file_extension": ".py",
   "mimetype": "text/x-python",
   "name": "python",
   "nbconvert_exporter": "python",
   "pygments_lexer": "ipython3",
   "version": "3.8.5"
  }
 },
 "nbformat": 4,
 "nbformat_minor": 2
}
